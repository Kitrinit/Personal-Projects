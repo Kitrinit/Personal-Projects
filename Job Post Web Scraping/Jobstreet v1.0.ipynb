{
 "cells": [
  {
   "cell_type": "code",
   "execution_count": 17,
   "id": "0402af91-faec-4ed0-9244-27671d2c2b89",
   "metadata": {},
   "outputs": [],
   "source": [
    "# pip install playwright"
   ]
  },
  {
   "cell_type": "code",
   "execution_count": 18,
   "id": "080048ea-0965-46d2-917c-720ab7a902f7",
   "metadata": {},
   "outputs": [],
   "source": [
    "import asyncio\n",
    "from playwright.async_api import async_playwright\n",
    "import pandas as pd"
   ]
  },
  {
   "cell_type": "code",
   "execution_count": 22,
   "id": "dc1d49b0-5122-44bb-9fca-e92c43f12340",
   "metadata": {},
   "outputs": [],
   "source": [
    "async def scrape_jobstreet():\n",
    "    async with async_playwright() as p:\n",
    "        browser = await p.chromium.launch(headless=False)  # set to False to solve CAPTCHA manually\n",
    "        page = await browser.new_page()\n",
    "        await page.goto(\"https://ph.jobstreet.com/Data-Science-jobs?jobId=85753657&type=standard\")\n",
    "\n",
    "        print(\"🛑 Manually solve CAPTCHA in browser window if needed...\")\n",
    "        await asyncio.sleep(30)\n",
    "\n",
    "        jobs = await page.query_selector_all('article[data-testid=\"job-card\"]')\n",
    "        print(f\"🔍 Found {len(jobs)} job listings\")\n",
    "\n",
    "        data = []\n",
    "\n",
    "        for job in jobs:\n",
    "            try:\n",
    "                title_el = await job.query_selector('[data-testid=\"job-title\"]')\n",
    "                company_el = await job.query_selector('[data-testid=\"company-name\"]')\n",
    "                location_el = await job.query_selector('[data-testid=\"job-location\"]')\n",
    "                salary_el = await job.query_selector('[data-testid=\"job-salary\"]')\n",
    "                posted_el = await job.query_selector('div[data-testid=\"job-card-date\"]')\n",
    "                url_el = await job.query_selector('a')\n",
    "        \n",
    "                title = await title_el.inner_text() if title_el else \"N/A\"\n",
    "                company = await company_el.inner_text() if company_el else \"N/A\"\n",
    "                location = await location_el.inner_text() if location_el else \"N/A\"\n",
    "                salary = await salary_el.inner_text() if salary_el else \"N/A\"\n",
    "                posted = await posted_el.inner_text() if posted_el else \"N/A\"\n",
    "                job_url = await url_el.get_attribute(\"href\") if url_el else \"N/A\"\n",
    "        \n",
    "                data.append({\n",
    "                    \"Title\": title,\n",
    "                    \"Company\": company,\n",
    "                    \"Location\": location,\n",
    "                    \"Salary\": salary,\n",
    "                    \"Posted\": posted,\n",
    "                    \"URL\": job_url\n",
    "                })\n",
    "        \n",
    "            except Exception as e:\n",
    "                print(\"⚠️ Error parsing a job:\", e)\n",
    "\n",
    "        await browser.close()\n",
    "        return pd.DataFrame(data)"
   ]
  },
  {
   "cell_type": "code",
   "execution_count": 23,
   "id": "f8566f40-aaf1-403f-9416-6e40a9f4eb2d",
   "metadata": {},
   "outputs": [
    {
     "name": "stdout",
     "output_type": "stream",
     "text": [
      "🛑 Manually solve CAPTCHA in browser window if needed...\n",
      "🔍 Found 32 job listings\n"
     ]
    },
    {
     "data": {
      "text/html": [
       "<div>\n",
       "<style scoped>\n",
       "    .dataframe tbody tr th:only-of-type {\n",
       "        vertical-align: middle;\n",
       "    }\n",
       "\n",
       "    .dataframe tbody tr th {\n",
       "        vertical-align: top;\n",
       "    }\n",
       "\n",
       "    .dataframe thead th {\n",
       "        text-align: right;\n",
       "    }\n",
       "</style>\n",
       "<table border=\"1\" class=\"dataframe\">\n",
       "  <thead>\n",
       "    <tr style=\"text-align: right;\">\n",
       "      <th></th>\n",
       "      <th>Title</th>\n",
       "      <th>Company</th>\n",
       "      <th>Location</th>\n",
       "      <th>Salary</th>\n",
       "      <th>Posted</th>\n",
       "      <th>URL</th>\n",
       "    </tr>\n",
       "  </thead>\n",
       "  <tbody>\n",
       "    <tr>\n",
       "      <th>0</th>\n",
       "      <td>N/A</td>\n",
       "      <td>N/A</td>\n",
       "      <td>N/A</td>\n",
       "      <td>N/A</td>\n",
       "      <td>N/A</td>\n",
       "      <td>/job/85753657?type=standard&amp;ref=search-standal...</td>\n",
       "    </tr>\n",
       "    <tr>\n",
       "      <th>1</th>\n",
       "      <td>N/A</td>\n",
       "      <td>N/A</td>\n",
       "      <td>N/A</td>\n",
       "      <td>N/A</td>\n",
       "      <td>N/A</td>\n",
       "      <td>/job/85795350?type=standard&amp;ref=search-standal...</td>\n",
       "    </tr>\n",
       "    <tr>\n",
       "      <th>2</th>\n",
       "      <td>N/A</td>\n",
       "      <td>N/A</td>\n",
       "      <td>N/A</td>\n",
       "      <td>N/A</td>\n",
       "      <td>N/A</td>\n",
       "      <td>/job/85756366?type=standard&amp;ref=search-standal...</td>\n",
       "    </tr>\n",
       "    <tr>\n",
       "      <th>3</th>\n",
       "      <td>N/A</td>\n",
       "      <td>N/A</td>\n",
       "      <td>N/A</td>\n",
       "      <td>N/A</td>\n",
       "      <td>N/A</td>\n",
       "      <td>/job/85782442?type=standard&amp;ref=search-standal...</td>\n",
       "    </tr>\n",
       "    <tr>\n",
       "      <th>4</th>\n",
       "      <td>N/A</td>\n",
       "      <td>N/A</td>\n",
       "      <td>N/A</td>\n",
       "      <td>N/A</td>\n",
       "      <td>N/A</td>\n",
       "      <td>/job/85735664?type=standard&amp;ref=search-standal...</td>\n",
       "    </tr>\n",
       "  </tbody>\n",
       "</table>\n",
       "</div>"
      ],
      "text/plain": [
       "  Title Company Location Salary Posted  \\\n",
       "0   N/A     N/A      N/A    N/A    N/A   \n",
       "1   N/A     N/A      N/A    N/A    N/A   \n",
       "2   N/A     N/A      N/A    N/A    N/A   \n",
       "3   N/A     N/A      N/A    N/A    N/A   \n",
       "4   N/A     N/A      N/A    N/A    N/A   \n",
       "\n",
       "                                                 URL  \n",
       "0  /job/85753657?type=standard&ref=search-standal...  \n",
       "1  /job/85795350?type=standard&ref=search-standal...  \n",
       "2  /job/85756366?type=standard&ref=search-standal...  \n",
       "3  /job/85782442?type=standard&ref=search-standal...  \n",
       "4  /job/85735664?type=standard&ref=search-standal...  "
      ]
     },
     "execution_count": 23,
     "metadata": {},
     "output_type": "execute_result"
    }
   ],
   "source": [
    "# Run the async function inside Jupyter\n",
    "df = await scrape_jobstreet()\n",
    "df.head()"
   ]
  },
  {
   "cell_type": "code",
   "execution_count": null,
   "id": "daf4d17f-5930-4050-b3df-5cdf6fae8ff4",
   "metadata": {},
   "outputs": [],
   "source": []
  }
 ],
 "metadata": {
  "kernelspec": {
   "display_name": "Python 3 (ipykernel)",
   "language": "python",
   "name": "python3"
  },
  "language_info": {
   "codemirror_mode": {
    "name": "ipython",
    "version": 3
   },
   "file_extension": ".py",
   "mimetype": "text/x-python",
   "name": "python",
   "nbconvert_exporter": "python",
   "pygments_lexer": "ipython3",
   "version": "3.12.7"
  }
 },
 "nbformat": 4,
 "nbformat_minor": 5
}
